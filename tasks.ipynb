{
 "cells": [
  {
   "cell_type": "markdown",
   "id": "1df09529",
   "metadata": {},
   "source": [
    "# Tasks"
   ]
  },
  {
   "cell_type": "code",
   "execution_count": 1,
   "id": "0898c7a3",
   "metadata": {},
   "outputs": [],
   "source": [
    "# Imports:\n",
    "# Data Frames.\n",
    "import pandas as pd\n",
    "# Machine learning Library that contains example datasets.\n",
    "import sklearn as skl\n",
    "import matplotlib.pyplot as plt\n",
    "import numpy as np"
   ]
  },
  {
   "cell_type": "markdown",
   "id": "3b83d908",
   "metadata": {},
   "source": [
    "## Task 1: Loading The Dataset"
   ]
  },
  {
   "cell_type": "code",
   "execution_count": 2,
   "id": "548c31a2",
   "metadata": {},
   "outputs": [],
   "source": [
    "# Loading the iris dataset from the sklearn module.\n",
    "data = skl.datasets.load_iris()\n",
    "df = skl.datasets.load_iris(as_frame=True)"
   ]
  },
  {
   "cell_type": "markdown",
   "id": "63bae9a8",
   "metadata": {},
   "source": [
    "The load_iris() command returns a dataset in dictionary form, originally published by R.A. Fisher in 1936, featuring data on the sepal and petal lengths and widths of different types of iris flower species measured in centimeters.  It contains 150 instances of measurements, 50 for each species observed: Iris Setosa, Iris Versicolour and Iris Virginica. It is noted as one of the earliest used datasets in the development of classification methods. It is extremely famous and influential still to this day despite being nearly a century old."
   ]
  },
  {
   "cell_type": "markdown",
   "id": "16d194fd",
   "metadata": {},
   "source": [
    "# Task 2: Explore the Data Structure"
   ]
  },
  {
   "cell_type": "markdown",
   "id": "1b2128f0",
   "metadata": {},
   "source": [
    "Print and explain the shape of the data set:"
   ]
  },
  {
   "cell_type": "code",
   "execution_count": 3,
   "id": "9b22377c",
   "metadata": {},
   "outputs": [
    {
     "data": {
      "text/plain": [
       "(150, 4)"
      ]
     },
     "execution_count": 3,
     "metadata": {},
     "output_type": "execute_result"
    }
   ],
   "source": [
    "# Shape\n",
    "# Reference used: https://scikit-learn.org/stable/modules/generated/sklearn.datasets.load_iris.html\n",
    "df['data'].shape"
   ]
  },
  {
   "cell_type": "markdown",
   "id": "e52f4a7a",
   "metadata": {},
   "source": [
    "The dataset contains 150 instances (rows) of 4 measurements (columns), totalling 600 datapoints."
   ]
  },
  {
   "cell_type": "markdown",
   "id": "dee6edf3",
   "metadata": {},
   "source": [
    "Print the first and last 5 rows of the data:"
   ]
  },
  {
   "cell_type": "code",
   "execution_count": 4,
   "id": "ecb84807",
   "metadata": {},
   "outputs": [
    {
     "data": {
      "text/html": [
       "<div>\n",
       "<style scoped>\n",
       "    .dataframe tbody tr th:only-of-type {\n",
       "        vertical-align: middle;\n",
       "    }\n",
       "\n",
       "    .dataframe tbody tr th {\n",
       "        vertical-align: top;\n",
       "    }\n",
       "\n",
       "    .dataframe thead th {\n",
       "        text-align: right;\n",
       "    }\n",
       "</style>\n",
       "<table border=\"1\" class=\"dataframe\">\n",
       "  <thead>\n",
       "    <tr style=\"text-align: right;\">\n",
       "      <th></th>\n",
       "      <th>sepal length (cm)</th>\n",
       "      <th>sepal width (cm)</th>\n",
       "      <th>petal length (cm)</th>\n",
       "      <th>petal width (cm)</th>\n",
       "    </tr>\n",
       "  </thead>\n",
       "  <tbody>\n",
       "    <tr>\n",
       "      <th>0</th>\n",
       "      <td>5.1</td>\n",
       "      <td>3.5</td>\n",
       "      <td>1.4</td>\n",
       "      <td>0.2</td>\n",
       "    </tr>\n",
       "    <tr>\n",
       "      <th>1</th>\n",
       "      <td>4.9</td>\n",
       "      <td>3.0</td>\n",
       "      <td>1.4</td>\n",
       "      <td>0.2</td>\n",
       "    </tr>\n",
       "    <tr>\n",
       "      <th>2</th>\n",
       "      <td>4.7</td>\n",
       "      <td>3.2</td>\n",
       "      <td>1.3</td>\n",
       "      <td>0.2</td>\n",
       "    </tr>\n",
       "    <tr>\n",
       "      <th>3</th>\n",
       "      <td>4.6</td>\n",
       "      <td>3.1</td>\n",
       "      <td>1.5</td>\n",
       "      <td>0.2</td>\n",
       "    </tr>\n",
       "    <tr>\n",
       "      <th>4</th>\n",
       "      <td>5.0</td>\n",
       "      <td>3.6</td>\n",
       "      <td>1.4</td>\n",
       "      <td>0.2</td>\n",
       "    </tr>\n",
       "  </tbody>\n",
       "</table>\n",
       "</div>"
      ],
      "text/plain": [
       "   sepal length (cm)  sepal width (cm)  petal length (cm)  petal width (cm)\n",
       "0                5.1               3.5                1.4               0.2\n",
       "1                4.9               3.0                1.4               0.2\n",
       "2                4.7               3.2                1.3               0.2\n",
       "3                4.6               3.1                1.5               0.2\n",
       "4                5.0               3.6                1.4               0.2"
      ]
     },
     "execution_count": 4,
     "metadata": {},
     "output_type": "execute_result"
    }
   ],
   "source": [
    "# The first five rows of the data:\n",
    "df['data'].head()"
   ]
  },
  {
   "cell_type": "code",
   "execution_count": 5,
   "id": "24de473e",
   "metadata": {},
   "outputs": [
    {
     "data": {
      "text/html": [
       "<div>\n",
       "<style scoped>\n",
       "    .dataframe tbody tr th:only-of-type {\n",
       "        vertical-align: middle;\n",
       "    }\n",
       "\n",
       "    .dataframe tbody tr th {\n",
       "        vertical-align: top;\n",
       "    }\n",
       "\n",
       "    .dataframe thead th {\n",
       "        text-align: right;\n",
       "    }\n",
       "</style>\n",
       "<table border=\"1\" class=\"dataframe\">\n",
       "  <thead>\n",
       "    <tr style=\"text-align: right;\">\n",
       "      <th></th>\n",
       "      <th>sepal length (cm)</th>\n",
       "      <th>sepal width (cm)</th>\n",
       "      <th>petal length (cm)</th>\n",
       "      <th>petal width (cm)</th>\n",
       "    </tr>\n",
       "  </thead>\n",
       "  <tbody>\n",
       "    <tr>\n",
       "      <th>145</th>\n",
       "      <td>6.7</td>\n",
       "      <td>3.0</td>\n",
       "      <td>5.2</td>\n",
       "      <td>2.3</td>\n",
       "    </tr>\n",
       "    <tr>\n",
       "      <th>146</th>\n",
       "      <td>6.3</td>\n",
       "      <td>2.5</td>\n",
       "      <td>5.0</td>\n",
       "      <td>1.9</td>\n",
       "    </tr>\n",
       "    <tr>\n",
       "      <th>147</th>\n",
       "      <td>6.5</td>\n",
       "      <td>3.0</td>\n",
       "      <td>5.2</td>\n",
       "      <td>2.0</td>\n",
       "    </tr>\n",
       "    <tr>\n",
       "      <th>148</th>\n",
       "      <td>6.2</td>\n",
       "      <td>3.4</td>\n",
       "      <td>5.4</td>\n",
       "      <td>2.3</td>\n",
       "    </tr>\n",
       "    <tr>\n",
       "      <th>149</th>\n",
       "      <td>5.9</td>\n",
       "      <td>3.0</td>\n",
       "      <td>5.1</td>\n",
       "      <td>1.8</td>\n",
       "    </tr>\n",
       "  </tbody>\n",
       "</table>\n",
       "</div>"
      ],
      "text/plain": [
       "     sepal length (cm)  sepal width (cm)  petal length (cm)  petal width (cm)\n",
       "145                6.7               3.0                5.2               2.3\n",
       "146                6.3               2.5                5.0               1.9\n",
       "147                6.5               3.0                5.2               2.0\n",
       "148                6.2               3.4                5.4               2.3\n",
       "149                5.9               3.0                5.1               1.8"
      ]
     },
     "execution_count": 5,
     "metadata": {},
     "output_type": "execute_result"
    }
   ],
   "source": [
    "# The last five rows of the data:\n",
    "df['data'].tail()"
   ]
  },
  {
   "cell_type": "markdown",
   "id": "ee0df236",
   "metadata": {},
   "source": [
    "Print the feature names and the target classes:"
   ]
  },
  {
   "cell_type": "code",
   "execution_count": 6,
   "id": "51c5ee28",
   "metadata": {},
   "outputs": [
    {
     "data": {
      "text/plain": [
       "['sepal length (cm)',\n",
       " 'sepal width (cm)',\n",
       " 'petal length (cm)',\n",
       " 'petal width (cm)']"
      ]
     },
     "execution_count": 6,
     "metadata": {},
     "output_type": "execute_result"
    }
   ],
   "source": [
    "# Printing the feature names\n",
    "df['feature_names']"
   ]
  },
  {
   "cell_type": "code",
   "execution_count": 7,
   "id": "2f94e039",
   "metadata": {},
   "outputs": [
    {
     "data": {
      "text/plain": [
       "['setosa', 'versicolor', 'virginica']"
      ]
     },
     "execution_count": 7,
     "metadata": {},
     "output_type": "execute_result"
    }
   ],
   "source": [
    "# Printing the target classes\n",
    "# Reference used: https://docs.python.org/3/library/array.html\n",
    "df['target_names'].tolist()"
   ]
  },
  {
   "cell_type": "markdown",
   "id": "4e12d05b",
   "metadata": {},
   "source": [
    "## Task 3: Summarise the Data"
   ]
  },
  {
   "cell_type": "markdown",
   "id": "25484732",
   "metadata": {},
   "source": [
    "For each feature in the dataset, calculate and display:\n",
    "\n",
    "- mean\n",
    "- minimum\n",
    "- maximum\n",
    "- standard deviation\n",
    "- median"
   ]
  },
  {
   "cell_type": "code",
   "execution_count": 8,
   "id": "b2cd7f01",
   "metadata": {},
   "outputs": [
    {
     "data": {
      "text/html": [
       "<div>\n",
       "<style scoped>\n",
       "    .dataframe tbody tr th:only-of-type {\n",
       "        vertical-align: middle;\n",
       "    }\n",
       "\n",
       "    .dataframe tbody tr th {\n",
       "        vertical-align: top;\n",
       "    }\n",
       "\n",
       "    .dataframe thead th {\n",
       "        text-align: right;\n",
       "    }\n",
       "</style>\n",
       "<table border=\"1\" class=\"dataframe\">\n",
       "  <thead>\n",
       "    <tr style=\"text-align: right;\">\n",
       "      <th></th>\n",
       "      <th>sepal length (cm)</th>\n",
       "      <th>sepal width (cm)</th>\n",
       "      <th>petal length (cm)</th>\n",
       "      <th>petal width (cm)</th>\n",
       "    </tr>\n",
       "  </thead>\n",
       "  <tbody>\n",
       "    <tr>\n",
       "      <th>count</th>\n",
       "      <td>150.000000</td>\n",
       "      <td>150.000000</td>\n",
       "      <td>150.000000</td>\n",
       "      <td>150.000000</td>\n",
       "    </tr>\n",
       "    <tr>\n",
       "      <th>mean</th>\n",
       "      <td>5.843333</td>\n",
       "      <td>3.057333</td>\n",
       "      <td>3.758000</td>\n",
       "      <td>1.199333</td>\n",
       "    </tr>\n",
       "    <tr>\n",
       "      <th>std</th>\n",
       "      <td>0.828066</td>\n",
       "      <td>0.435866</td>\n",
       "      <td>1.765298</td>\n",
       "      <td>0.762238</td>\n",
       "    </tr>\n",
       "    <tr>\n",
       "      <th>min</th>\n",
       "      <td>4.300000</td>\n",
       "      <td>2.000000</td>\n",
       "      <td>1.000000</td>\n",
       "      <td>0.100000</td>\n",
       "    </tr>\n",
       "    <tr>\n",
       "      <th>25%</th>\n",
       "      <td>5.100000</td>\n",
       "      <td>2.800000</td>\n",
       "      <td>1.600000</td>\n",
       "      <td>0.300000</td>\n",
       "    </tr>\n",
       "    <tr>\n",
       "      <th>50%</th>\n",
       "      <td>5.800000</td>\n",
       "      <td>3.000000</td>\n",
       "      <td>4.350000</td>\n",
       "      <td>1.300000</td>\n",
       "    </tr>\n",
       "    <tr>\n",
       "      <th>75%</th>\n",
       "      <td>6.400000</td>\n",
       "      <td>3.300000</td>\n",
       "      <td>5.100000</td>\n",
       "      <td>1.800000</td>\n",
       "    </tr>\n",
       "    <tr>\n",
       "      <th>max</th>\n",
       "      <td>7.900000</td>\n",
       "      <td>4.400000</td>\n",
       "      <td>6.900000</td>\n",
       "      <td>2.500000</td>\n",
       "    </tr>\n",
       "  </tbody>\n",
       "</table>\n",
       "</div>"
      ],
      "text/plain": [
       "       sepal length (cm)  sepal width (cm)  petal length (cm)  \\\n",
       "count         150.000000        150.000000         150.000000   \n",
       "mean            5.843333          3.057333           3.758000   \n",
       "std             0.828066          0.435866           1.765298   \n",
       "min             4.300000          2.000000           1.000000   \n",
       "25%             5.100000          2.800000           1.600000   \n",
       "50%             5.800000          3.000000           4.350000   \n",
       "75%             6.400000          3.300000           5.100000   \n",
       "max             7.900000          4.400000           6.900000   \n",
       "\n",
       "       petal width (cm)  \n",
       "count        150.000000  \n",
       "mean           1.199333  \n",
       "std            0.762238  \n",
       "min            0.100000  \n",
       "25%            0.300000  \n",
       "50%            1.300000  \n",
       "75%            1.800000  \n",
       "max            2.500000  "
      ]
     },
     "execution_count": 8,
     "metadata": {},
     "output_type": "execute_result"
    }
   ],
   "source": [
    "df['data'].describe()"
   ]
  },
  {
   "cell_type": "code",
   "execution_count": 9,
   "id": "4d205d69",
   "metadata": {},
   "outputs": [
    {
     "data": {
      "text/plain": [
       "sepal length (cm)    5.843333\n",
       "sepal width (cm)     3.057333\n",
       "petal length (cm)    3.758000\n",
       "petal width (cm)     1.199333\n",
       "dtype: float64"
      ]
     },
     "execution_count": 9,
     "metadata": {},
     "output_type": "execute_result"
    }
   ],
   "source": [
    "df['data'].mean()"
   ]
  },
  {
   "cell_type": "code",
   "execution_count": 10,
   "id": "f53b43e0",
   "metadata": {},
   "outputs": [
    {
     "data": {
      "text/plain": [
       "sepal length (cm)    4.3\n",
       "sepal width (cm)     2.0\n",
       "petal length (cm)    1.0\n",
       "petal width (cm)     0.1\n",
       "dtype: float64"
      ]
     },
     "execution_count": 10,
     "metadata": {},
     "output_type": "execute_result"
    }
   ],
   "source": [
    "df['data'].min()"
   ]
  },
  {
   "cell_type": "code",
   "execution_count": 11,
   "id": "44ec8eb2",
   "metadata": {},
   "outputs": [
    {
     "data": {
      "text/plain": [
       "sepal length (cm)    7.9\n",
       "sepal width (cm)     4.4\n",
       "petal length (cm)    6.9\n",
       "petal width (cm)     2.5\n",
       "dtype: float64"
      ]
     },
     "execution_count": 11,
     "metadata": {},
     "output_type": "execute_result"
    }
   ],
   "source": [
    "df['data'].max()"
   ]
  },
  {
   "cell_type": "code",
   "execution_count": 12,
   "id": "225cd3f1",
   "metadata": {},
   "outputs": [
    {
     "data": {
      "text/plain": [
       "sepal length (cm)    0.828066\n",
       "sepal width (cm)     0.435866\n",
       "petal length (cm)    1.765298\n",
       "petal width (cm)     0.762238\n",
       "dtype: float64"
      ]
     },
     "execution_count": 12,
     "metadata": {},
     "output_type": "execute_result"
    }
   ],
   "source": [
    "df['data'].std()"
   ]
  },
  {
   "cell_type": "code",
   "execution_count": 13,
   "id": "9a1b595a",
   "metadata": {},
   "outputs": [
    {
     "data": {
      "text/plain": [
       "sepal length (cm)    5.80\n",
       "sepal width (cm)     3.00\n",
       "petal length (cm)    4.35\n",
       "petal width (cm)     1.30\n",
       "dtype: float64"
      ]
     },
     "execution_count": 13,
     "metadata": {},
     "output_type": "execute_result"
    }
   ],
   "source": [
    "df['data'].median()"
   ]
  },
  {
   "cell_type": "markdown",
   "id": "364610ed",
   "metadata": {},
   "source": [
    "## Task 4: Visualize Features\n",
    "\n",
    "Plot histograms for each feature using matplotlib.\n",
    "Add appropriate titles and axis labels."
   ]
  },
  {
   "cell_type": "code",
   "execution_count": 14,
   "id": "9557497b",
   "metadata": {},
   "outputs": [],
   "source": [
    "A = df['data']"
   ]
  },
  {
   "cell_type": "code",
   "execution_count": 15,
   "id": "732385d6",
   "metadata": {},
   "outputs": [
    {
     "data": {
      "image/png": "[encoded data removed]",
      "text/plain": [
       "<Figure size 640x480 with 4 Axes>"
      ]
     },
     "metadata": {},
     "output_type": "display_data"
    }
   ],
   "source": [
    "dist1 = A['sepal length (cm)']\n",
    "dist2 = A['sepal width (cm)']\n",
    "dist3 = A['petal length (cm)']\n",
    "dist4 = A['petal width (cm)']\n",
    "\n",
    "fig, axs = plt.subplots(2, 2, sharey=True, tight_layout=True)\n",
    "\n",
    "axs[0,0].hist(dist1)\n",
    "axs[0,0].set_xlabel('Sepal Length (cm)')\n",
    "axs[0,1].hist(dist2)\n",
    "axs[0,1].set_xlabel('Sepal Width (cm)')\n",
    "axs[1,0].hist(dist3)\n",
    "axs[1,0].set_xlabel('Petal Length (cm)')\n",
    "axs[1,1].hist(dist4)\n",
    "axs[1,1].set_xlabel('Petal Width (cm)')\n",
    "\n",
    "plt.show()"
   ]
  },
  {
   "cell_type": "markdown",
   "id": "fb913fe9",
   "metadata": {},
   "source": [
    "## Task 5: Scatter Plot\n",
    "Choose any two features from the data set and create a scatter plot of them.  \n",
    "Color-code the three different classes of the scatter plot points."
   ]
  },
  {
   "cell_type": "code",
   "execution_count": 16,
   "id": "ce859435",
   "metadata": {},
   "outputs": [
    {
     "data": {
      "image/png": "[encoded data removed]",
      "text/plain": [
       "<Figure size 640x480 with 1 Axes>"
      ]
     },
     "metadata": {},
     "output_type": "display_data"
    }
   ],
   "source": [
    "fig, ax = plt.subplots()\n",
    "\n",
    "ax.scatter(dist1[0:50],dist2[0:50], c='tab:blue', label='Setosa', alpha=0.3)\n",
    "ax.scatter(dist1[51:100],dist2[51:100], c='tab:orange', label='Versicolor', alpha=0.3)\n",
    "ax.scatter(dist1[101:150],dist2[101:150], c='tab:green', label='Virginica', alpha=0.3)\n",
    "ax.set_xlabel('Sepal Length (cm)')\n",
    "ax.set_ylabel('Sepal Width (cm)')\n",
    "ax.legend()\n",
    "# ax.grid(True)\n",
    "\n",
    "plt.show()"
   ]
  },
  {
   "cell_type": "markdown",
   "id": "89898c3b",
   "metadata": {},
   "source": [
    "## End"
   ]
  }
 ],
 "metadata": {
  "kernelspec": {
   "display_name": "base",
   "language": "python",
   "name": "python3"
  },
  "language_info": {
   "codemirror_mode": {
    "name": "ipython",
    "version": 3
   },
   "file_extension": ".py",
   "mimetype": "text/x-python",
   "name": "python",
   "nbconvert_exporter": "python",
   "pygments_lexer": "ipython3",
   "version": "3.11.11"
  }
 },
 "nbformat": 4,
 "nbformat_minor": 5
}
